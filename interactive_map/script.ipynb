{
  "nbformat": 4,
  "nbformat_minor": 0,
  "metadata": {
    "orig_nbformat": 4,
    "language_info": {
      "name": "python",
      "version": "3.9.7",
      "mimetype": "text/x-python",
      "codemirror_mode": {
        "name": "ipython",
        "version": 3
      },
      "pygments_lexer": "ipython3",
      "nbconvert_exporter": "python",
      "file_extension": ".py"
    },
    "kernelspec": {
      "name": "python3",
      "display_name": "Python 3.9.7 64-bit ('nasaai': conda)"
    },
    "interpreter": {
      "hash": "e2d482526a82ac3d47dfbf383a04d905313a889a3bc7d3cbf6ae71f69cc5cf5b"
    },
    "colab": {
      "name": "Copy of pars.ipynb",
      "provenance": [],
      "collapsed_sections": []
    }
  },
  "cells": [
    {
      "cell_type": "code",
      "metadata": {
        "id": "wO5clw8Q79tS"
      },
      "source": [
        "import netCDF4 as nc\n",
        "import numpy as np\n",
        "import json\n",
        "import math"
      ],
      "execution_count": null,
      "outputs": []
    },
    {
      "cell_type": "code",
      "metadata": {
        "id": "E9a28T7z79tX",
        "outputId": "d7f215c4-96ed-4e10-fcba-fe54ffe499eb"
      },
      "source": [
        "%load_ext Cython"
      ],
      "execution_count": null,
      "outputs": [
        {
          "output_type": "stream",
          "name": "stdout",
          "text": [
            "The Cython extension is already loaded. To reload it, use:\n",
            "  %reload_ext Cython\n"
          ]
        }
      ]
    },
    {
      "cell_type": "code",
      "metadata": {
        "id": "NGDMqSsDf7gI"
      },
      "source": [
        "from google.colab import drive \n",
        "drive.mount('/content/drive')"
      ],
      "execution_count": null,
      "outputs": []
    },
    {
      "cell_type": "code",
      "metadata": {
        "id": "md6fXNT279tY"
      },
      "source": [
        "fn1 = 'sauce/Wind10.nc4' #NOAA GDAS dataset\n",
        "ds1 = nc.Dataset(fn1)\n"
      ],
      "execution_count": null,
      "outputs": []
    },
    {
      "cell_type": "markdown",
      "metadata": {
        "id": "GlrgkSNt79tZ"
      },
      "source": [
        "# Processing NOAA GDAS dataset\n",
        "\n",
        "Here we retrive neccessary data from NOAA GDAS dataset\n",
        "\n"
      ]
    },
    {
      "cell_type": "code",
      "metadata": {
        "colab": {
          "base_uri": "https://localhost:8080/",
          "height": 218
        },
        "id": "oEvqHpYZ79ta",
        "outputId": "332fcc68-6c8a-49ca-d33e-ccd9161883f3"
      },
      "source": [
        "U_GRD_L103 = ds1[\"U_GRD_L103\"][:] # U vector of the wind\n",
        "V_GRD_L103 = ds1[\"V_GRD_L103\"][:] # V vector of the wind\n",
        "lat = ds1[\"lat\"][:] # latitude\n",
        "lon = ds1[\"lon\"][:] # longtitude\n"
      ],
      "execution_count": null,
      "outputs": [
        {
          "output_type": "error",
          "ename": "NameError",
          "evalue": "ignored",
          "traceback": [
            "\u001b[0;31m---------------------------------------------------------------------------\u001b[0m",
            "\u001b[0;31mNameError\u001b[0m                                 Traceback (most recent call last)",
            "\u001b[0;32m<ipython-input-1-967fff4bd39f>\u001b[0m in \u001b[0;36m<module>\u001b[0;34m()\u001b[0m\n\u001b[0;32m----> 1\u001b[0;31m \u001b[0mU_GRD_L103\u001b[0m \u001b[0;34m=\u001b[0m \u001b[0mds1\u001b[0m\u001b[0;34m[\u001b[0m\u001b[0;34m\"U_GRD_L103\"\u001b[0m\u001b[0;34m]\u001b[0m\u001b[0;34m[\u001b[0m\u001b[0;34m:\u001b[0m\u001b[0;34m]\u001b[0m \u001b[0;31m# U vector of the wind\u001b[0m\u001b[0;34m\u001b[0m\u001b[0;34m\u001b[0m\u001b[0m\n\u001b[0m\u001b[1;32m      2\u001b[0m \u001b[0mV_GRD_L103\u001b[0m \u001b[0;34m=\u001b[0m \u001b[0mds1\u001b[0m\u001b[0;34m[\u001b[0m\u001b[0;34m\"V_GRD_L103\"\u001b[0m\u001b[0;34m]\u001b[0m\u001b[0;34m[\u001b[0m\u001b[0;34m:\u001b[0m\u001b[0;34m]\u001b[0m \u001b[0;31m# V vector of the wind\u001b[0m\u001b[0;34m\u001b[0m\u001b[0;34m\u001b[0m\u001b[0m\n\u001b[1;32m      3\u001b[0m \u001b[0mlat\u001b[0m \u001b[0;34m=\u001b[0m \u001b[0mds1\u001b[0m\u001b[0;34m[\u001b[0m\u001b[0;34m\"lat\"\u001b[0m\u001b[0;34m]\u001b[0m\u001b[0;34m[\u001b[0m\u001b[0;34m:\u001b[0m\u001b[0;34m]\u001b[0m\u001b[0;34m\u001b[0m\u001b[0;34m\u001b[0m\u001b[0m\n\u001b[1;32m      4\u001b[0m \u001b[0mlon\u001b[0m \u001b[0;34m=\u001b[0m \u001b[0mds1\u001b[0m\u001b[0;34m[\u001b[0m\u001b[0;34m\"lon\"\u001b[0m\u001b[0;34m]\u001b[0m\u001b[0;34m[\u001b[0m\u001b[0;34m:\u001b[0m\u001b[0;34m]\u001b[0m\u001b[0;34m\u001b[0m\u001b[0;34m\u001b[0m\u001b[0m\n",
            "\u001b[0;31mNameError\u001b[0m: name 'ds1' is not defined"
          ]
        }
      ]
    },
    {
      "cell_type": "markdown",
      "metadata": {
        "id": "UkdoKe9rDuxz"
      },
      "source": [
        "# Processing CYGNSS dataset\n",
        "\n",
        "\n"
      ]
    },
    {
      "cell_type": "code",
      "metadata": {
        "id": "AcX1epx_79tb"
      },
      "source": [
        "rad_fn = 'sauce/Sac1.nc4' #CYGNSS dataset\n",
        "rad_ds = nc.Dataset(rad_fn)"
      ],
      "execution_count": null,
      "outputs": []
    },
    {
      "cell_type": "code",
      "metadata": {
        "id": "LRDrAE2L79te",
        "outputId": "6fcf243b-350b-4985-9fcf-8f41777b0f0d"
      },
      "source": [
        "radds_lat = np.array(rad_ds[\"lat\"][:])\n",
        "radds_lon = np.array(rad_ds[\"lon\"][:])"
      ],
      "execution_count": null,
      "outputs": [
        {
          "output_type": "stream",
          "name": "stderr",
          "text": [
            "/var/folders/0g/k0tsczj93vq5fwg_pnt31zv40000gn/T/ipykernel_46745/898792714.py:2: UserWarning: WARNING: valid_range not used since it\n",
            "cannot be safely cast to variable data type\n",
            "  radds_lon = np.array(rad_ds[\"lon\"][:])\n"
          ]
        }
      ]
    },
    {
      "cell_type": "markdown",
      "metadata": {
        "id": "vD2BuwTbD9VY"
      },
      "source": [
        "### Calculating magnitude of wind vector and mss_modeled"
      ]
    },
    {
      "cell_type": "code",
      "metadata": {
        "id": "55E94_EN79td"
      },
      "source": [
        "V = np.sqrt(ds1[\"U_GRD_L103\"]['0'][6] * ds1[\"U_GRD_L103\"]['0'][6]  + ds1[\"U_GRD_L103\"]['0'][6] * ds1[\"U_GRD_L103\"]['0'][6])\n",
        "cond = V <= 3.49\n",
        "''' Correlation between wind vector and mean square slope was taken from the paper (You can find it on github). '''\n",
        "mss_mod_db = np.where((V <= 3.49), 0.0035 * (V + 0.62),  0.0035 * (6*np.log(V) - 3.39)) "
      ],
      "execution_count": null,
      "outputs": []
    },
    {
      "cell_type": "markdown",
      "metadata": {
        "id": "AjXGb531Eitc"
      },
      "source": [
        "\n",
        "### Interpolating coordinates of CYGNSS dataset\n"
      ]
    },
    {
      "cell_type": "code",
      "metadata": {
        "id": "gg9UqSaT79tf"
      },
      "source": [
        "%%cython\n",
        "from __main__ import radds_lat, radds_lon, lat, lon\n",
        "import numpy\n",
        "cimport numpy \n",
        "\n",
        "\n",
        "\n",
        "\n",
        "cdef float rad_var\n",
        "cdef numpy.ndarray arr\n",
        "cdef int arr_shape = arr.shape[0]\n",
        "\n",
        "\n",
        " \n",
        "cdef radtomod(var, mod):\n",
        "    for rad_var in numpy.nditer(var, op_flags = ['readwrite']):\n",
        "        radtomod_ivar =  numpy.abs(mod - rad_var).argmin()\n",
        "        rad_var[...] = mod[radtomod_ivar]\n",
        "    return var\n",
        "\n",
        "radds_lat = radtomod(radds_lat, lat)\n",
        "radds_lon = radtomod(radds_lon, lon)\n",
        "\n"
      ],
      "execution_count": null,
      "outputs": []
    },
    {
      "cell_type": "markdown",
      "metadata": {
        "id": "OU46V87ofPPS"
      },
      "source": [
        "## Calculating microplastic density"
      ]
    },
    {
      "cell_type": "code",
      "metadata": {
        "id": "cc5mMbvS79tg"
      },
      "source": [
        "lst = np.array(lst)\n",
        "mod_x = 0\n",
        "fin_db = []\n",
        "\n",
        "for rad_lat, rad_lon, mss_rad in zip(radds_lat, radds_lon, rad_ds[\"mean_square_slope\"][:]):\n",
        "\n",
        "        mod_i_lat = np.nonzero(lat == rad_lat)\n",
        "        mod_i_lon = np.nonzero(lon == rad_lon)\n",
        "        \n",
        "        \n",
        "        if not isinstance(mss_rad, np.float32):\n",
        "                continue\n",
        "\n",
        "        if V[mod_i_lat, mod_i_lon] < 3 or V[mod_i_lat, mod_i_lon] > 11:\n",
        "                # print(\"Wrong V: \", V[mod_i_lat, mod_i_lon])\n",
        "                continue\n",
        "        mss_mod = mss_mod_db[mod_i_lat, mod_i_lon]\n",
        "        mss_anom = (mss_rad / mss_mod) - 1\n",
        "        \n",
        "        dens = 2035*math.exp(-23.18*mss_anom)\n",
        "        \n",
        "        fin_db.append((rad_lat, rad_lon, dens))\n",
        "        \n",
        "        "
      ],
      "execution_count": null,
      "outputs": []
    },
    {
      "cell_type": "markdown",
      "metadata": {
        "id": "T4CcsykPC9Zp"
      },
      "source": [
        "## Inspector function\n",
        "Helps to idendify problems with mss values on some coordiantes"
      ]
    },
    {
      "cell_type": "code",
      "metadata": {
        "id": "SEpeQ3iE79th"
      },
      "source": [
        "rad_lat = 3\n",
        "rad_lon = -59.5\n",
        "\n",
        "rad_lon += 180\n",
        "rad_stack = np.stack((radds_lat, radds_lon), axis=1)\n",
        "\n",
        "mod_i_lat = np.nonzero(lat == rad_lat)\n",
        "mod_i_lon = np.nonzero(lon == rad_lon)\n",
        "\n",
        "mod_i_rad = np.where((rad_stack == (rad_lat, rad_lon)).all(axis = 1))\n",
        "\n",
        "if not isinstance(mss_rad, np.float32):\n",
        "        print(\"Variables are not float\")\n",
        "\n",
        "if V[mod_i_lat, mod_i_lon] < 3 or V[mod_i_lat, mod_i_lon] > 11:\n",
        "        print(\"Wrong V: \", V[mod_i_lat, mod_i_lon])\n",
        "        \n",
        "mss_rad = rad_ds[\"mean_square_slope\"][mod_i_rad]\n",
        "mss_mod = mss_mod_db[mod_i_lat, mod_i_lon]\n",
        "mss_anom = (mss_rad / mss_mod) - 1\n",
        "\n",
        "\n",
        "dens = 2035*np.exp(-23.18*mss_anom)\n",
        "\n",
        "print(\"mod_i_rad: \", mod_i_rad)\n",
        "print(\"V: \", V[mod_i_lat, mod_i_lon])\n",
        "print('mss_rad: ', mss_rad, ' mss_mod: ', mss_mod, ' mss_anom: ', mss_anom)\n",
        "print(\"Desnisty: \", dens)\n",
        "\n",
        "print(dens)"
      ],
      "execution_count": null,
      "outputs": []
    },
    {
      "cell_type": "markdown",
      "metadata": {
        "id": "nglkiLLFffZg"
      },
      "source": [
        "## Converting data to json "
      ]
    },
    {
      "cell_type": "code",
      "metadata": {
        "id": "VYJ8Kax579tj"
      },
      "source": [
        "json_db = []\n",
        "for lat, lon, dens in fin_db:\n",
        "  stg = {\n",
        "        \"type\": \"Feature\",\n",
        "        \"properties\": {\n",
        "            \"conScale\": float(dens)\n",
        "        },\n",
        "        \"geometry\": {\n",
        "          \"type\": \"Point\",\n",
        "          \"coordinates\": [\n",
        "            float(lat),\n",
        "            float(lon - 180)\n",
        "            \n",
        "          ]\n",
        "        }\n",
        "    }\n",
        "  json_db.append(stg)\n",
        "json_str = {\n",
        "  \"type\": \"FeatureCollection\",\n",
        "  \"features\" : json_db \n",
        "}\n",
        "with open(\"destination/data_base_large.json\", \"w\") as write_file:\n",
        "    json.dump(json_db, write_file, indent=4)\n",
        "\n"
      ],
      "execution_count": null,
      "outputs": []
    }
  ]
}