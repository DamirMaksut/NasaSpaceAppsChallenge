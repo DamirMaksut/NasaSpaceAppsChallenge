{
 "cells": [
  {
   "cell_type": "code",
   "execution_count": 49,
   "source": [
    "import netCDF4 as nc\n",
    "import numpy as np\n",
    "import json\n",
    "import math"
   ],
   "outputs": [],
   "metadata": {}
  },
  {
   "cell_type": "code",
   "execution_count": 75,
   "source": [
    "%load_ext Cython"
   ],
   "outputs": [
    {
     "output_type": "stream",
     "name": "stdout",
     "text": [
      "The Cython extension is already loaded. To reload it, use:\n",
      "  %reload_ext Cython\n"
     ]
    }
   ],
   "metadata": {}
  },
  {
   "cell_type": "code",
   "execution_count": 17,
   "source": [
    "fn1 = 'sauce/Wind10.nc4'\n",
    "fn2 = 'sauce/Wind11.nc4'\n",
    "\n",
    "ds1 = nc.Dataset(fn1\n",
    "ds2 = nc.Dataset(fn2)"
   ],
   "outputs": [],
   "metadata": {}
  },
  {
   "cell_type": "markdown",
   "source": [
    "# Life is pain"
   ],
   "metadata": {}
  },
  {
   "cell_type": "code",
   "execution_count": 170,
   "source": [
    "U_GRD_L103 = ds1[\"U_GRD_L103\"][:]\n",
    "V_GRD_L103 = ds1[\"V_GRD_L103\"][:]\n",
    "lat = ds1[\"lat\"][:]\n",
    "lon = ds1[\"lon\"][:]\n",
    "U_GRD_L103"
   ],
   "outputs": [
    {
     "output_type": "execute_result",
     "data": {
      "text/plain": [
       "masked_array(\n",
       "  data=[[[[ 5.750348  ,  5.750348  ,  5.750348  , ...,  5.6503477 ,\n",
       "            5.6503477 ,  5.6503477 ],\n",
       "          [ 4.350348  ,  4.350348  ,  4.350348  , ...,  4.350348  ,\n",
       "            4.350348  ,  4.350348  ],\n",
       "          [ 3.950348  ,  3.950348  ,  3.950348  , ...,  3.850348  ,\n",
       "            3.950348  ,  3.950348  ],\n",
       "          ...,\n",
       "          [-3.2496521 , -3.149652  , -3.149652  , ..., -3.349652  ,\n",
       "           -3.349652  , -3.2496521 ],\n",
       "          [-1.6496521 , -1.5496521 , -1.5496521 , ..., -1.7496521 ,\n",
       "           -1.6496521 , -1.6496521 ],\n",
       "          [-0.1496521 , -0.0496521 , -0.0496521 , ..., -0.2496521 ,\n",
       "           -0.2496521 , -0.1496521 ]],\n",
       "\n",
       "         [[ 5.61499   ,  5.6249905 ,  5.63499   , ...,  5.58499   ,\n",
       "            5.5949903 ,  5.60499   ],\n",
       "          [ 4.2449903 ,  4.2449903 ,  4.2449903 , ...,  4.2449903 ,\n",
       "            4.2449903 ,  4.2449903 ],\n",
       "          [ 3.6949902 ,  3.6949902 ,  3.7149901 , ...,  3.6949902 ,\n",
       "            3.6949902 ,  3.6949902 ],\n",
       "          ...,\n",
       "          [-3.5050097 , -3.4550097 , -3.4550097 , ..., -3.6550097 ,\n",
       "           -3.5750098 , -3.5550098 ],\n",
       "          [-1.9450097 , -1.8750098 , -1.8450098 , ..., -2.0450099 ,\n",
       "           -1.9950098 , -1.9450097 ],\n",
       "          [-0.40500978, -0.36500975, -0.32500976, ..., -0.51500976,\n",
       "           -0.47500977, -0.43500978]],\n",
       "\n",
       "         [[ 5.269082  ,  5.279082  ,  5.289082  , ...,  5.229082  ,\n",
       "            5.249082  ,  5.259082  ],\n",
       "          [ 4.0690823 ,  4.0890822 ,  4.099082  , ...,  4.029082  ,\n",
       "            4.039082  ,  4.059082  ],\n",
       "          [ 3.359082  ,  3.359082  ,  3.369082  , ...,  3.329082  ,\n",
       "            3.339082  ,  3.349082  ],\n",
       "          ...,\n",
       "          [-3.7909179 , -3.750918  , -3.720918  , ..., -3.890918  ,\n",
       "           -3.860918  , -3.820918  ],\n",
       "          [-2.270918  , -2.230918  , -2.190918  , ..., -2.380918  ,\n",
       "           -2.350918  , -2.3109179 ],\n",
       "          [-0.910918  , -0.88091797, -0.850918  , ..., -1.010918  ,\n",
       "           -0.97091794, -0.94091797]],\n",
       "\n",
       "         ...,\n",
       "\n",
       "         [[ 4.230381  ,  4.240381  ,  4.2603807 , ...,  4.200381  ,\n",
       "            4.210381  ,  4.220381  ],\n",
       "          [ 3.790381  ,  3.800381  ,  3.810381  , ...,  3.7503808 ,\n",
       "            3.770381  ,  3.780381  ],\n",
       "          [ 3.040381  ,  3.050381  ,  3.060381  , ...,  3.0103807 ,\n",
       "            3.020381  ,  3.030381  ],\n",
       "          ...,\n",
       "          [-3.659619  , -3.639619  , -3.5996192 , ..., -3.7396193 ,\n",
       "           -3.719619  , -3.689619  ],\n",
       "          [-2.2996192 , -2.2696192 , -2.2396193 , ..., -2.399619  ,\n",
       "           -2.3696191 , -2.3396192 ],\n",
       "          [-1.2596191 , -1.2396191 , -1.2096192 , ..., -1.3296192 ,\n",
       "           -1.3096192 , -1.2796191 ]],\n",
       "\n",
       "         [[ 3.4915478 ,  3.5015478 ,  3.5115478 , ...,  3.4615479 ,\n",
       "            3.4715478 ,  3.4815478 ],\n",
       "          [ 3.4915478 ,  3.5015478 ,  3.5115478 , ...,  3.4615479 ,\n",
       "            3.4715478 ,  3.4815478 ],\n",
       "          [ 2.861548  ,  2.861548  ,  2.871548  , ...,  2.8215477 ,\n",
       "            2.841548  ,  2.851548  ],\n",
       "          ...,\n",
       "          [-3.388452  , -3.368452  , -3.338452  , ..., -3.4584522 ,\n",
       "           -3.4384522 , -3.408452  ],\n",
       "          [-2.1684523 , -2.138452  , -2.118452  , ..., -2.2484522 ,\n",
       "           -2.2184522 , -2.1984522 ],\n",
       "          [-1.2984521 , -1.2784522 , -1.2584522 , ..., -1.3584522 ,\n",
       "           -1.3384521 , -1.3184521 ]],\n",
       "\n",
       "         [[ 2.7432177 ,  2.7532177 ,  2.7632177 , ...,  2.7132177 ,\n",
       "            2.7232177 ,  2.7332177 ],\n",
       "          [ 3.1832178 ,  3.1932178 ,  3.1932178 , ...,  3.1732178 ,\n",
       "            3.1732178 ,  3.1832178 ],\n",
       "          [ 2.6932178 ,  2.7032177 ,  2.7132177 , ...,  2.6632178 ,\n",
       "            2.6732178 ,  2.6832178 ],\n",
       "          ...,\n",
       "          [-3.3067822 , -3.2867823 , -3.2667823 , ..., -3.3767822 ,\n",
       "           -3.3467822 , -3.3267822 ],\n",
       "          [-2.1667821 , -2.1467822 , -2.1267822 , ..., -2.2367823 ,\n",
       "           -2.2167823 , -2.1867821 ],\n",
       "          [-1.4267823 , -1.4067823 , -1.3967823 , ..., -1.4867822 ,\n",
       "           -1.4667822 , -1.4467822 ]]]],\n",
       "  mask=False,\n",
       "  fill_value=1e+20,\n",
       "  dtype=float32)"
      ]
     },
     "metadata": {},
     "execution_count": 170
    }
   ],
   "metadata": {}
  },
  {
   "cell_type": "code",
   "execution_count": 8,
   "source": [
    "rad_fn = 'sauce/Sac1.nc4'\n",
    "rad_ds = nc.Dataset(rad_fn)"
   ],
   "outputs": [],
   "metadata": {}
  },
  {
   "cell_type": "code",
   "execution_count": 19,
   "source": [
    "lst = []\n",
    "n = 100\n",
    "# Accuracy of meuserment. 1 is the maxium and most refined, but it will take 49 times longer to compute\n",
    "\n",
    "for ix, x in enumerate(lat):\n",
    "    if not ix % n:\n",
    "        for iy, y in enumerate(lon):\n",
    "            if not iy % n:\n",
    "\n",
    "                V = math.sqrt(ds1[\"U_GRD_L103\"]['0'][6][ix][iy] ** 2 + ds1[\"V_GRD_L103\"]['0'][6][ix][iy] ** 2)\n",
    "                mss_mod = 0\n",
    "        \n",
    "                if V <= 3.49:\n",
    "                    mss_mod = 0.0035 * (V + 0.62)\n",
    "                else:\n",
    "                    mss_mod = 0.0035 * (6*math.log(V) - 3.39)\n",
    "\n",
    "                lst.append((y, x, mss_mod))\n",
    "                \n",
    "    \n"
   ],
   "outputs": [],
   "metadata": {}
  },
  {
   "cell_type": "code",
   "execution_count": 141,
   "source": [
    "V = np.sqrt(ds1[\"U_GRD_L103\"]['0'][6] * ds1[\"U_GRD_L103\"]['0'][6]  + ds1[\"U_GRD_L103\"]['0'][6] * ds1[\"U_GRD_L103\"]['0'][6])\n",
    "cond = V <= 3.49\n",
    "mss_mod_db = np.where((V <= 3.49), 0.0035 * (V + 0.62),  0.0035 * (6*np.log(V) - 3.39))\n",
    "\n",
    " "
   ],
   "outputs": [],
   "metadata": {}
  },
  {
   "cell_type": "code",
   "execution_count": 146,
   "source": [
    "radds_lat = np.array(rad_ds[\"lat\"][:])\n",
    "radds_lon = np.array(rad_ds[\"lon\"][:])"
   ],
   "outputs": [
    {
     "output_type": "stream",
     "name": "stderr",
     "text": [
      "/var/folders/0g/k0tsczj93vq5fwg_pnt31zv40000gn/T/ipykernel_46745/898792714.py:2: UserWarning: WARNING: valid_range not used since it\n",
      "cannot be safely cast to variable data type\n",
      "  radds_lon = np.array(rad_ds[\"lon\"][:])\n"
     ]
    }
   ],
   "metadata": {}
  },
  {
   "cell_type": "code",
   "execution_count": 178,
   "source": [
    "%%cython\n",
    "from __main__ import radds_lat, radds_lon, lat, lon\n",
    "import numpy\n",
    "cimport numpy \n",
    "\n",
    "\n",
    "\n",
    "\n",
    "cdef float rad_var\n",
    "cdef numpy.ndarray arr\n",
    "cdef int arr_shape = arr.shape[0]\n",
    "\n",
    "\n",
    " \n",
    "cdef radtomod(var, mod):\n",
    "    for rad_var in numpy.nditer(var, op_flags = ['readwrite']):\n",
    "        radtomod_ivar =  numpy.abs(mod - rad_var).argmin()\n",
    "        rad_var[...] = mod[radtomod_ivar]\n",
    "    return var\n",
    "\n",
    "radds_lat = radtomod(radds_lat, lat)\n",
    "radds_lon = radtomod(radds_lon, lon)\n",
    "\n"
   ],
   "outputs": [],
   "metadata": {}
  },
  {
   "cell_type": "code",
   "execution_count": 152,
   "source": [
    "# print(mss_mod_db.shape, lon.shape, lat.shape)\n",
    "print(radds_lat)"
   ],
   "outputs": [
    {
     "output_type": "stream",
     "name": "stdout",
     "text": [
      "[-32.75 -26.75 -35.5  ... -26.75 -23.5  -31.75]\n"
     ]
    }
   ],
   "metadata": {}
  },
  {
   "cell_type": "code",
   "execution_count": 200,
   "source": [
    "lst = np.array(lst)\n",
    "mod_x = 0\n",
    "fin_db = []\n",
    "\n",
    "for rad_lat, rad_lon, mss_rad in zip(radds_lat, radds_lon, rad_ds[\"mean_square_slope\"][:]):\n",
    "\n",
    "        mod_i_lat = np.nonzero(lat == rad_lat)\n",
    "        mod_i_lon = np.nonzero(lon == rad_lon)\n",
    "        \n",
    "        \n",
    "        if not isinstance(mss_rad, np.float32):\n",
    "                continue\n",
    "\n",
    "        if V[mod_i_lat, mod_i_lon] < 3 or V[mod_i_lat, mod_i_lon] > 11:\n",
    "                # print(\"Wrong V: \", V[mod_i_lat, mod_i_lon])\n",
    "                continue\n",
    "        mss_mod = mss_mod_db[mod_i_lat, mod_i_lon]\n",
    "        mss_anom = (mss_rad / mss_mod) - 1\n",
    "        \n",
    "        dens = 2035*math.exp(-23.18*mss_anom)\n",
    "        \n",
    "        fin_db.append((rad_lat, rad_lon, dens))\n",
    "        \n",
    "        "
   ],
   "outputs": [
    {
     "output_type": "stream",
     "name": "stderr",
     "text": [
      "/var/folders/0g/k0tsczj93vq5fwg_pnt31zv40000gn/T/ipykernel_46745/3488110762.py:5: UserWarning: WARNING: valid_range not used since it\n",
      "cannot be safely cast to variable data type\n",
      "  for rad_lat, rad_lon, mss_rad in zip(radds_lat, radds_lon, rad_ds[\"mean_square_slope\"][:]):\n"
     ]
    }
   ],
   "metadata": {}
  },
  {
   "cell_type": "code",
   "execution_count": 197,
   "source": [
    "rad_lat = 3\n",
    "rad_lon = -59.5\n",
    "\n",
    "rad_lon += 180\n",
    "rad_stack = np.stack((radds_lat, radds_lon), axis=1)\n",
    "\n",
    "mod_i_lat = np.nonzero(lat == rad_lat)\n",
    "mod_i_lon = np.nonzero(lon == rad_lon)\n",
    "\n",
    "mod_i_rad = np.where((rad_stack == (rad_lat, rad_lon)).all(axis = 1))\n",
    "\n",
    "# print(mss_i_rad_lat, mss_i_rad_lon)\n",
    "\n",
    "# print(radds_lat[1467225])\n",
    "\n",
    "\n",
    "# print(mod_i_lat, mod_i_lon)\n",
    "\n",
    "# if not isinstance(mss_rad, np.float32):\n",
    "#         continue\n",
    "\n",
    "if V[mod_i_lat, mod_i_lon] < 3 or V[mod_i_lat, mod_i_lon] > 11:\n",
    "        print(\"Wrong V: \", V[mod_i_lat, mod_i_lon])\n",
    "        \n",
    "\n",
    "mss_rad = rad_ds[\"mean_square_slope\"][mod_i_rad]\n",
    "mss_mod = mss_mod_db[mod_i_lat, mod_i_lon]\n",
    "mss_anom = (mss_rad / mss_mod) - 1\n",
    "\n",
    "\n",
    "dens = 2035*np.exp(-23.18*mss_anom)\n",
    "\n",
    "print(\"mod_i_rad: \", mod_i_rad)\n",
    "print(\"V: \", V[mod_i_lat, mod_i_lon])\n",
    "print('mss_rad: ', mss_rad, ' mss_mod: ', mss_mod, ' mss_anom: ', mss_anom)\n",
    "print(\"Desnisty: \", dens)\n",
    "\n",
    "print(dens)"
   ],
   "outputs": [
    {
     "output_type": "stream",
     "name": "stdout",
     "text": [
      "mod_i_rad:  (array([1025093]),)\n",
      "V:  [[4.223948001861572]]\n",
      "mss_rad:  [0.00645592]  mss_mod:  [[0.01839118]]  mss_anom:  [[-0.6489665508270264]]\n",
      "Desnisty:  [[6945057792.0]]\n",
      "[[6945057792.0]]\n"
     ]
    },
    {
     "output_type": "stream",
     "name": "stderr",
     "text": [
      "/var/folders/0g/k0tsczj93vq5fwg_pnt31zv40000gn/T/ipykernel_46745/673374498.py:26: UserWarning: WARNING: valid_range not used since it\n",
      "cannot be safely cast to variable data type\n",
      "  mss_rad = rad_ds[\"mean_square_slope\"][mod_i_rad]\n"
     ]
    }
   ],
   "metadata": {}
  },
  {
   "cell_type": "code",
   "execution_count": 174,
   "source": [
    "dens"
   ],
   "outputs": [
    {
     "output_type": "execute_result",
     "data": {
      "text/plain": [
       "nan"
      ]
     },
     "metadata": {},
     "execution_count": 174
    }
   ],
   "metadata": {}
  },
  {
   "cell_type": "code",
   "execution_count": 22,
   "source": [
    "# lst = np.array(lst)\n",
    "# mod_x = 0\n",
    "# fin_db = []\n",
    "\n",
    "# for x, y, mss_rad in zip(rad_ds[\"lat\"][:], rad_ds[\"lon\"][:], rad_ds[\"mean_square_slope\"][:]):\n",
    "#         if not isinstance(mss_rad, np.float32):\n",
    "#                 continue\n",
    "\n",
    "#         modi_x = np.abs(lst[:, 1] - x).argmin()\n",
    "#         modi_y = np.abs(lst[:, 0] - y).argmin()\n",
    "\n",
    "#         arr = lst[:, 0:2]\n",
    "#         mod_y = lst[modi_y, 0]\n",
    "#         mod_x = lst[modi_x, 1]\n",
    "#         mod_i = np.where((arr == (mod_y, mod_x)).all(axis = 1))\n",
    "\n",
    "#         mss_mod = lst[mod_i[0][0], 2]\n",
    "        \n",
    "#         mss_anom = (mss_rad / mss_mod) - 1\n",
    "#         dens = 2035*math.exp(-23.18*mss_anom)\n",
    "#         fin_db.append((lst[modi_y, 0], lst[modi_x, 1], dens))\n",
    "        \n",
    "        "
   ],
   "outputs": [
    {
     "output_type": "stream",
     "name": "stderr",
     "text": [
      "/var/folders/0g/k0tsczj93vq5fwg_pnt31zv40000gn/T/ipykernel_46745/992665060.py:5: UserWarning: WARNING: valid_range not used since it\n",
      "cannot be safely cast to variable data type\n",
      "  for x, y, mss_rad in zip(rad_ds[\"lat\"][:], rad_ds[\"lon\"][:], rad_ds[\"mean_square_slope\"][:]):\n"
     ]
    }
   ],
   "metadata": {}
  },
  {
   "cell_type": "code",
   "execution_count": 166,
   "source": [
    "json_db = []\n",
    "for lat, lon, dens in fin_db:\n",
    "  stg = {\n",
    "        \"type\": \"Feature\",\n",
    "        \"properties\": {\n",
    "            \"conScale\": float(dens)\n",
    "        },\n",
    "        \"geometry\": {\n",
    "          \"type\": \"Point\",\n",
    "          \"coordinates\": [\n",
    "            float(lat),\n",
    "            float(lon - 180)\n",
    "            \n",
    "          ]\n",
    "        }\n",
    "    }\n",
    "  json_db.append(stg)\n",
    "json_str = {\n",
    "  \"type\": \"FeatureCollection\",\n",
    "  \"features\" : json_db \n",
    "}\n",
    "with open(\"destination/data_base_large.json\", \"w\") as write_file:\n",
    "    json.dump(json_db, write_file, indent=4)\n",
    "\n"
   ],
   "outputs": [],
   "metadata": {}
  },
  {
   "cell_type": "code",
   "execution_count": null,
   "source": [
    "lst = np.array(lst)\n",
    "print(rad_ds[\"mean_square_slope\"][:])\n"
   ],
   "outputs": [],
   "metadata": {}
  }
 ],
 "metadata": {
  "orig_nbformat": 4,
  "language_info": {
   "name": "python",
   "version": "3.9.7",
   "mimetype": "text/x-python",
   "codemirror_mode": {
    "name": "ipython",
    "version": 3
   },
   "pygments_lexer": "ipython3",
   "nbconvert_exporter": "python",
   "file_extension": ".py"
  },
  "kernelspec": {
   "name": "python3",
   "display_name": "Python 3.9.7 64-bit ('nasaai': conda)"
  },
  "interpreter": {
   "hash": "e2d482526a82ac3d47dfbf383a04d905313a889a3bc7d3cbf6ae71f69cc5cf5b"
  }
 },
 "nbformat": 4,
 "nbformat_minor": 2
}